{
 "cells": [
  {
   "cell_type": "code",
   "execution_count": 1,
   "metadata": {},
   "outputs": [],
   "source": [
    "import requests\n",
    "import json\n",
    "import pandas as pd\n",
    "import numpy as np\n",
    "import matplotlib.pyplot as plt\n",
    "import os"
   ]
  },
  {
   "cell_type": "code",
   "execution_count": 2,
   "metadata": {},
   "outputs": [],
   "source": [
    "# 准备数据\n",
    "headers = {'user-agent': 'Mozilla/5.0 (Windows NT 10.0; Win64; x64) AppleWebKit/537.36 (KHTML, like Gecko) Chrome/80.0.3987.149 Safari/537.36'}\n",
    "url = 'http://www.ceic.ac.cn/ajax/speedsearch?num=6&&page=1'"
   ]
  },
  {
   "cell_type": "code",
   "execution_count": 3,
   "metadata": {},
   "outputs": [],
   "source": [
    "# 发送请求得到数据\n",
    "def send_request(url):\n",
    "    response = requests.get(url, headers=headers).content.decode()[1:-1]\n",
    "    return json.loads(response)"
   ]
  },
  {
   "cell_type": "code",
   "execution_count": 4,
   "metadata": {},
   "outputs": [
    {
     "ename": "TypeError",
     "evalue": "send_request() missing 1 required positional argument: 'url'",
     "output_type": "error",
     "traceback": [
      "\u001b[1;31m---------------------------------------------------------------------------\u001b[0m",
      "\u001b[1;31mTypeError\u001b[0m                                 Traceback (most recent call last)",
      "\u001b[1;32m<ipython-input-4-09c61285dfa5>\u001b[0m in \u001b[0;36m<module>\u001b[1;34m\u001b[0m\n\u001b[0;32m      1\u001b[0m \u001b[1;31m# 查看数据\u001b[0m\u001b[1;33m\u001b[0m\u001b[1;33m\u001b[0m\u001b[1;33m\u001b[0m\u001b[0m\n\u001b[1;32m----> 2\u001b[1;33m \u001b[0msend_request\u001b[0m\u001b[1;33m(\u001b[0m\u001b[1;33m)\u001b[0m\u001b[1;33m\u001b[0m\u001b[1;33m\u001b[0m\u001b[0m\n\u001b[0m",
      "\u001b[1;31mTypeError\u001b[0m: send_request() missing 1 required positional argument: 'url'"
     ]
    }
   ],
   "source": [
    "# 查看数据\n",
    "send_request()"
   ]
  },
  {
   "cell_type": "code",
   "execution_count": null,
   "metadata": {},
   "outputs": [],
   "source": [
    "#  分析数据 \n",
    "def analysis_data(data):\n",
    "    for i in data['shuju']:\n",
    "        data_dataframe = pd.DataFrame(i, index=[i['LOCATION_C']])\n",
    "        yield data_dataframe"
   ]
  },
  {
   "cell_type": "code",
   "execution_count": null,
   "metadata": {},
   "outputs": [],
   "source": [
    "# 查看分析后的结果\n",
    "# for i in analysis_data(send_request()):\n",
    "#     print()"
   ]
  },
  {
   "cell_type": "code",
   "execution_count": null,
   "metadata": {},
   "outputs": [],
   "source": [
    "# 写入文件\n",
    "def save_svc(datas):\n",
    "    for data in datas:\n",
    "        if '地震数据3.csv' not in os.listdir(os.getcwd()):\n",
    "            data.to_csv('地震数据3.csv', mode='a')\n",
    "        else:\n",
    "            data.to_csv('地震数据3.csv', mode='a', header=False)"
   ]
  },
  {
   "cell_type": "code",
   "execution_count": null,
   "metadata": {},
   "outputs": [],
   "source": [
    "# save_svc(analysis_data(send_request()))"
   ]
  },
  {
   "cell_type": "code",
   "execution_count": null,
   "metadata": {},
   "outputs": [],
   "source": [
    "# 批量获取文件\n",
    "def get_all_data():\n",
    "    url_list = []\n",
    "    for i in range(1, 58):\n",
    "        url = 'http://www.ceic.ac.cn/ajax/speedsearch?num=6&&page=%s' % i\n",
    "        url_list.append(url)\n",
    "    return url_list"
   ]
  },
  {
   "cell_type": "code",
   "execution_count": null,
   "metadata": {},
   "outputs": [],
   "source": [
    "# get_all_data()"
   ]
  },
  {
   "cell_type": "code",
   "execution_count": null,
   "metadata": {},
   "outputs": [],
   "source": [
    "def  run():\n",
    "    # 生成地址列表\n",
    "    url_list = get_all_data()\n",
    "    # 便利地址发送请求\n",
    "    for url in url_list:\n",
    "        datas = send_request(url)\n",
    "        # 清洗数据\n",
    "        data_dataframe = analysis_data(datas)\n",
    "        # 保存到文件\n",
    "        save_svc(data_dataframe)"
   ]
  },
  {
   "cell_type": "code",
   "execution_count": null,
   "metadata": {},
   "outputs": [],
   "source": [
    "run()"
   ]
  },
  {
   "cell_type": "markdown",
   "metadata": {},
   "source": [
    "### 绘图"
   ]
  },
  {
   "cell_type": "code",
   "execution_count": null,
   "metadata": {},
   "outputs": [],
   "source": [
    "# 近一年全球震级级别最高 top10  M\n",
    "m_data = pd.read_csv('地震数据2.csv', usecols=['LOCATION_C', 'M'])"
   ]
  },
  {
   "cell_type": "code",
   "execution_count": null,
   "metadata": {},
   "outputs": [],
   "source": [
    "m_data"
   ]
  },
  {
   "cell_type": "code",
   "execution_count": null,
   "metadata": {},
   "outputs": [],
   "source": [
    "top10_data = m_data.sort_values(by='M', ascending=False).head(10)"
   ]
  },
  {
   "cell_type": "code",
   "execution_count": null,
   "metadata": {},
   "outputs": [],
   "source": [
    "top10_data"
   ]
  },
  {
   "cell_type": "code",
   "execution_count": null,
   "metadata": {},
   "outputs": [],
   "source": [
    "top10_data.plot(use_index=(top10_data['LOCATION_C'],top10_data['M'] ),kind='bar', figsize=(20,8), fontsize=20, grid='-', title='地震震级top10排名', rot=45)  "
   ]
  },
  {
   "cell_type": "code",
   "execution_count": null,
   "metadata": {},
   "outputs": [],
   "source": [
    "top10_data.index = top10_data['LOCATION_C']"
   ]
  },
  {
   "cell_type": "code",
   "execution_count": null,
   "metadata": {},
   "outputs": [],
   "source": [
    "top10_data"
   ]
  },
  {
   "cell_type": "code",
   "execution_count": null,
   "metadata": {},
   "outputs": [],
   "source": [
    "top10_data.plot(kind='bar', figsize=(20,8), fontsize=20, grid='-', title='地震震级top10排名', legend=True) # use_index "
   ]
  },
  {
   "cell_type": "code",
   "execution_count": null,
   "metadata": {},
   "outputs": [],
   "source": [
    "top10_data.plot(kind='bar', figsize=(20,8), fontsize=20, grid='-', title='地震震级top10排名', legend=True, rot=45,) # use_index "
   ]
  },
  {
   "cell_type": "code",
   "execution_count": null,
   "metadata": {},
   "outputs": [],
   "source": [
    "# 近一年全球每月发生地震次数排名 O_TIME\tLOCATION_C"
   ]
  },
  {
   "cell_type": "code",
   "execution_count": null,
   "metadata": {},
   "outputs": [],
   "source": [
    "m_data = pd.read_csv('地震数据2.csv', usecols=['LOCATION_C', 'O_TIME'])"
   ]
  },
  {
   "cell_type": "code",
   "execution_count": null,
   "metadata": {},
   "outputs": [],
   "source": [
    "m_data"
   ]
  },
  {
   "cell_type": "code",
   "execution_count": null,
   "metadata": {},
   "outputs": [],
   "source": [
    "m_data['O_TIME'] = m_data['O_TIME'].map(lambda x: x.split('-')[1])\n",
    "\n",
    "grouped_month = m_data.groupby('O_TIME') # 分组 \n",
    "\n",
    "grouped_month_amount = grouped_month.O_TIME.count()#计数\n",
    "\n",
    "top_month = grouped_month_amount.sort_values(ascending=False) # 排序\n",
    "\n",
    "top_month"
   ]
  },
  {
   "cell_type": "code",
   "execution_count": null,
   "metadata": {},
   "outputs": [],
   "source": [
    "top_month.values"
   ]
  },
  {
   "cell_type": "code",
   "execution_count": null,
   "metadata": {},
   "outputs": [],
   "source": [
    "top_month.plot(kind='bar', figsize=(20, 8), label='排名')\n",
    "plt.title('近一年全球每月发生地震次数排名')\n",
    "plt.grid()\n",
    "plt.xlabel('月份')\n",
    "plt.ylabel('次数')\n",
    "plt.xticks(rotation=45)\n",
    "plt.legend()\n",
    "for x, y in enumerate(list(top_month.values)):\n",
    "    plt.text(x, y + 0.8, '%s' % round(y, 1), ha='center', bbox=dict(facecolor='red', alpha=0.5))\n"
   ]
  },
  {
   "cell_type": "code",
   "execution_count": null,
   "metadata": {},
   "outputs": [],
   "source": [
    "# 近一年地震级别级数分布情况  M震级 \n",
    "m_data = pd.read_csv('地震数据2.csv', usecols=['M'])"
   ]
  },
  {
   "cell_type": "code",
   "execution_count": null,
   "metadata": {},
   "outputs": [],
   "source": [
    "grouped_month = m_data.groupby('M') # 分组 \n",
    "\n",
    "grouped_month_amount = grouped_month.M.count()#计数"
   ]
  },
  {
   "cell_type": "code",
   "execution_count": null,
   "metadata": {},
   "outputs": [],
   "source": [
    "len(grouped_month_amount)"
   ]
  },
  {
   "cell_type": "code",
   "execution_count": null,
   "metadata": {},
   "outputs": [],
   "source": [
    "grouped_month_amount"
   ]
  },
  {
   "cell_type": "code",
   "execution_count": null,
   "metadata": {},
   "outputs": [],
   "source": [
    "(max(grouped_month_amount.index) - min(grouped_month_amount.index)) / 0.5"
   ]
  },
  {
   "cell_type": "code",
   "execution_count": null,
   "metadata": {},
   "outputs": [],
   "source": [
    "plt.figure(figsize=(20, 8), dpi=80)\n",
    "\n",
    "plt.hist(x=grouped_month_amount.index, bins=int((max(grouped_month_amount.index) - min(grouped_month_amount.index))/1))\n",
    "plt.xticks(grouped_month_amount.index, grouped_month_amount.index)"
   ]
  },
  {
   "cell_type": "code",
   "execution_count": null,
   "metadata": {},
   "outputs": [],
   "source": []
  }
 ],
 "metadata": {
  "kernelspec": {
   "display_name": "Python 3",
   "language": "python",
   "name": "python3"
  },
  "language_info": {
   "codemirror_mode": {
    "name": "ipython",
    "version": 3
   },
   "file_extension": ".py",
   "mimetype": "text/x-python",
   "name": "python",
   "nbconvert_exporter": "python",
   "pygments_lexer": "ipython3",
   "version": "3.8.5"
  }
 },
 "nbformat": 4,
 "nbformat_minor": 4
}
